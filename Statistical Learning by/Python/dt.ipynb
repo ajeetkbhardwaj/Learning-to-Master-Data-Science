{
 "cells": [
  {
   "cell_type": "markdown",
   "metadata": {},
   "source": [
    "# Tree-based methods for regression and classification\n",
    "- It involves stratifying or segmenting the predictor space into a number of sample regions. \n",
    "- To make prediction for a given observation we use the mean/mode response value for training obsevations in the region to which it belongs.\n",
    "- The set of splitting rules used to segment the predictor space can be summarized into a decision tree, these types of approaches are known as decision tree methods.\n",
    "- Tree-based methods easy to interprete but they are lack in comptativeness with other models like Logistic Regression etc in terms of accuracy.\n",
    "- We discuss : Bagging, random forests, boosting and Bayesian additive regression trees etc. each of them used to produce multiple trees and then combined to yield a single consensus prediction.\n",
    "- Combination of a large number of multiple decision tree can leads to dramatic improvements in prediction accuracy at the expence of the some loss in interpretation."
   ]
  },
  {
   "cell_type": "code",
   "execution_count": null,
   "metadata": {},
   "outputs": [],
   "source": [
    "import numpy as np\n",
    "import pandas as pd\n",
    "from matplotlib.pyplot import subplots\n",
    "from statsmodels.datasets import get_rdataset\n",
    "import sklearn.model_selection as skm\n",
    "from ISLP import load_data, confusion_table\n",
    "from ISLP.models import ModelSpec as MS"
   ]
  }
 ],
 "metadata": {
  "kernelspec": {
   "display_name": "mne",
   "language": "python",
   "name": "python3"
  },
  "language_info": {
   "name": "python",
   "version": "3.9.4"
  }
 },
 "nbformat": 4,
 "nbformat_minor": 2
}
